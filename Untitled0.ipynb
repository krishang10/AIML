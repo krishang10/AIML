{
  "nbformat": 4,
  "nbformat_minor": 0,
  "metadata": {
    "colab": {
      "provenance": [],
      "authorship_tag": "ABX9TyPEDSGBTw5dASk1YTmgx0Cb",
      "include_colab_link": true
    },
    "kernelspec": {
      "name": "python3",
      "display_name": "Python 3"
    },
    "language_info": {
      "name": "python"
    }
  },
  "cells": [
    {
      "cell_type": "markdown",
      "metadata": {
        "id": "view-in-github",
        "colab_type": "text"
      },
      "source": [
        "<a href=\"https://colab.research.google.com/github/krishang10/AIML/blob/main/Untitled0.ipynb\" target=\"_parent\"><img src=\"https://colab.research.google.com/assets/colab-badge.svg\" alt=\"Open In Colab\"/></a>"
      ]
    },
    {
      "cell_type": "code",
      "execution_count": 1,
      "metadata": {
        "colab": {
          "base_uri": "https://localhost:8080/"
        },
        "id": "WGXjFbosVso4",
        "outputId": "aa40583e-1a8d-4b97-a9de-fd9bac9e1b9f"
      },
      "outputs": [
        {
          "output_type": "stream",
          "name": "stdout",
          "text": [
            "Original Dataset:\n",
            "      age     salary  experience\n",
            "0   25.0    50000.0         2.0\n",
            "1   30.0    60000.0         5.0\n",
            "2   35.0    55000.0         NaN\n",
            "3    NaN    62000.0        10.0\n",
            "4   45.0        NaN        15.0\n",
            "5   50.0    48000.0        20.0\n",
            "6  100.0  1000000.0        25.0\n",
            "\n",
            "Dataset after handling missing values:\n",
            "      age     salary  experience\n",
            "0   25.0    50000.0         2.0\n",
            "1   30.0    60000.0         5.0\n",
            "2   35.0    55000.0        12.5\n",
            "3   40.0    62000.0        10.0\n",
            "4   45.0    57500.0        15.0\n",
            "5   50.0    48000.0        20.0\n",
            "6  100.0  1000000.0        25.0\n",
            "\n",
            "Z-scores of the dataset:\n",
            "         age    salary  experience\n",
            "0  0.921443  0.424593    1.443275\n",
            "1  0.706439  0.394342    1.041835\n",
            "2  0.491436  0.409468    0.038232\n",
            "3  0.276433  0.388292    0.372767\n",
            "4  0.061430  0.401905    0.296302\n",
            "5  0.153574  0.430644    0.965370\n",
            "6  2.303607  2.449244    1.634438\n",
            "\n",
            "Rows with outliers:\n",
            " Empty DataFrame\n",
            "Columns: [age, salary, experience]\n",
            "Index: []\n",
            "\n",
            "Dataset after removing outliers:\n",
            "      age     salary  experience\n",
            "0   25.0    50000.0         2.0\n",
            "1   30.0    60000.0         5.0\n",
            "2   35.0    55000.0        12.5\n",
            "3   40.0    62000.0        10.0\n",
            "4   45.0    57500.0        15.0\n",
            "5   50.0    48000.0        20.0\n",
            "6  100.0  1000000.0        25.0\n",
            "\n",
            "Dataset after filtering outliers using IQR:\n",
            "     age   salary  experience\n",
            "0  25.0  50000.0         2.0\n",
            "1  30.0  60000.0         5.0\n",
            "2  35.0  55000.0        12.5\n",
            "3  40.0  62000.0        10.0\n",
            "4  45.0  57500.0        15.0\n",
            "5  50.0  48000.0        20.0\n"
          ]
        },
        {
          "output_type": "stream",
          "name": "stderr",
          "text": [
            "<ipython-input-1-c0a1318e47c5>:18: FutureWarning: A value is trying to be set on a copy of a DataFrame or Series through chained assignment using an inplace method.\n",
            "The behavior will change in pandas 3.0. This inplace method will never work because the intermediate object on which we are setting values always behaves as a copy.\n",
            "\n",
            "For example, when doing 'df[col].method(value, inplace=True)', try using 'df.method({col: value}, inplace=True)' or df[col] = df[col].method(value) instead, to perform the operation inplace on the original object.\n",
            "\n",
            "\n",
            "  df['age'].fillna(df['age'].median(), inplace=True)\n",
            "<ipython-input-1-c0a1318e47c5>:19: FutureWarning: A value is trying to be set on a copy of a DataFrame or Series through chained assignment using an inplace method.\n",
            "The behavior will change in pandas 3.0. This inplace method will never work because the intermediate object on which we are setting values always behaves as a copy.\n",
            "\n",
            "For example, when doing 'df[col].method(value, inplace=True)', try using 'df.method({col: value}, inplace=True)' or df[col] = df[col].method(value) instead, to perform the operation inplace on the original object.\n",
            "\n",
            "\n",
            "  df['salary'].fillna(df['salary'].median(), inplace=True)\n",
            "<ipython-input-1-c0a1318e47c5>:20: FutureWarning: A value is trying to be set on a copy of a DataFrame or Series through chained assignment using an inplace method.\n",
            "The behavior will change in pandas 3.0. This inplace method will never work because the intermediate object on which we are setting values always behaves as a copy.\n",
            "\n",
            "For example, when doing 'df[col].method(value, inplace=True)', try using 'df.method({col: value}, inplace=True)' or df[col] = df[col].method(value) instead, to perform the operation inplace on the original object.\n",
            "\n",
            "\n",
            "  df['experience'].fillna(df['experience'].median(), inplace=True)\n"
          ]
        }
      ],
      "source": [
        "import pandas as pd\n",
        "import numpy as np\n",
        "from scipy import stats\n",
        "\n",
        "# Sample dataset creation (you can replace this with your dataset)\n",
        "data = {\n",
        "    'age': [25, 30, 35, np.nan, 45, 50, 100],  # Outlier at 100, Missing value at index 3\n",
        "    'salary': [50000, 60000, 55000, 62000, np.nan, 48000, 1000000],  # Outlier at 1000000, Missing value at index 4\n",
        "    'experience': [2, 5, np.nan, 10, 15, 20, 25]  # Missing value at index 2\n",
        "}\n",
        "\n",
        "df = pd.DataFrame(data)\n",
        "\n",
        "print(\"Original Dataset:\\n\", df)\n",
        "\n",
        "# 1. Handling Missing Values\n",
        "# Fill missing values with the mean or median (Imputation)\n",
        "df['age'].fillna(df['age'].median(), inplace=True)\n",
        "df['salary'].fillna(df['salary'].median(), inplace=True)\n",
        "df['experience'].fillna(df['experience'].median(), inplace=True)\n",
        "\n",
        "print(\"\\nDataset after handling missing values:\\n\", df)\n",
        "\n",
        "# 2. Detecting Outliers using Z-score\n",
        "z_scores = np.abs(stats.zscore(df))\n",
        "print(\"\\nZ-scores of the dataset:\\n\", z_scores)\n",
        "\n",
        "# Setting a threshold for Z-score (usually 3) and filtering the outliers\n",
        "outliers = (z_scores > 3).any(axis=1)\n",
        "print(\"\\nRows with outliers:\\n\", df[outliers])\n",
        "\n",
        "# Removing the outliers (Optional: Depending on the use case)\n",
        "df_no_outliers = df[~outliers]\n",
        "\n",
        "print(\"\\nDataset after removing outliers:\\n\", df_no_outliers)\n",
        "\n",
        "# 3. Handling Outliers using IQR (Interquartile Range)\n",
        "Q1 = df.quantile(0.25)\n",
        "Q3 = df.quantile(0.75)\n",
        "IQR = Q3 - Q1\n",
        "\n",
        "# Filtering the outliers based on IQR\n",
        "df_IQR_filtered = df[~((df < (Q1 - 1.5 * IQR)) | (df > (Q3 + 1.5 * IQR))).any(axis=1)]\n",
        "\n",
        "print(\"\\nDataset after filtering outliers using IQR:\\n\", df_IQR_filtered)\n"
      ]
    },
    {
      "cell_type": "markdown",
      "source": [],
      "metadata": {
        "id": "HUJ_w57UYUu-"
      }
    },
    {
      "cell_type": "code",
      "source": [],
      "metadata": {
        "id": "5kNIR1-jYVjx"
      },
      "execution_count": null,
      "outputs": []
    }
  ]
}